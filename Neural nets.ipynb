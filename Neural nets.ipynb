{
 "cells": [
  {
   "cell_type": "code",
   "execution_count": 1,
   "metadata": {
    "collapsed": true
   },
   "outputs": [],
   "source": [
    "import scipy.io as sio\n",
    "import numpy as np\n",
    "import scipy.stats as stats\n",
    "import matplotlib.pyplot as plt"
   ]
  },
  {
   "cell_type": "code",
   "execution_count": 2,
   "metadata": {
    "collapsed": true
   },
   "outputs": [],
   "source": [
    "# Load data, the data used in this script is Hand-written letters data set.\n",
    "# The object 'data' is a dic that contains np.array 'train_x' and 'train_y'.\n",
    "matfn='letters_data.mat'\n",
    "data=sio.loadmat(matfn)"
   ]
  },
  {
   "cell_type": "code",
   "execution_count": 3,
   "metadata": {
    "collapsed": true
   },
   "outputs": [],
   "source": [
    "labels=np.zeros(shape=(len(data['train_y']),26))\n",
    "for i in range(len(data['train_y'])):\n",
    "    labels[i,(data['train_y'][i][0]-1)]=1"
   ]
  },
  {
   "cell_type": "code",
   "execution_count": 4,
   "metadata": {
    "collapsed": false
   },
   "outputs": [
    {
     "data": {
      "text/plain": [
       "False"
      ]
     },
     "execution_count": 4,
     "metadata": {},
     "output_type": "execute_result"
    }
   ],
   "source": [
    "False in [sum(i)==1 for i in labels]"
   ]
  },
  {
   "cell_type": "code",
   "execution_count": 5,
   "metadata": {
    "collapsed": false
   },
   "outputs": [],
   "source": [
    "# Normalize data.\n",
    "mean=data['train_x'].mean(0)\n",
    "sd=data['train_x'].std(0)\n",
    "for i in range(len(sd)):\n",
    "    if sd[i]==0:\n",
    "        sd[i]=1"
   ]
  },
  {
   "cell_type": "code",
   "execution_count": 6,
   "metadata": {
    "collapsed": false
   },
   "outputs": [],
   "source": [
    "train_x=(data['train_x']-mean)/sd"
   ]
  },
  {
   "cell_type": "code",
   "execution_count": 7,
   "metadata": {
    "collapsed": true
   },
   "outputs": [],
   "source": [
    "# Split the training set and validation set.\n",
    "index=np.arange(len(train_x))\n",
    "np.random.shuffle(index)\n",
    "train_x=train_x[index]\n",
    "labels=labels[index]\n",
    "train_set=train_x[0:round(len(train_x)*0.8)]\n",
    "train_label=labels[0:round(len(train_x)*0.8)]\n",
    "valid_set=train_x[round(len(train_x)*0.8):]\n",
    "valid_label=labels[round(len(train_x)*0.8):]"
   ]
  },
  {
   "cell_type": "code",
   "execution_count": 8,
   "metadata": {
    "collapsed": false
   },
   "outputs": [],
   "source": [
    "def add_1(data):\n",
    "    return np.array(list(data.transpose())+[np.repeat(1,len(data))]).transpose()\n",
    "def add_1_vector(vector):\n",
    "    return np.matrix(vector.T.tolist()[0]+[1]).T"
   ]
  },
  {
   "cell_type": "code",
   "execution_count": 9,
   "metadata": {
    "collapsed": true
   },
   "outputs": [],
   "source": [
    "train_set=add_1(train_set)\n",
    "valid_set=add_1(valid_set)"
   ]
  },
  {
   "cell_type": "code",
   "execution_count": 10,
   "metadata": {
    "collapsed": false
   },
   "outputs": [],
   "source": [
    "def trainNeuralNetwork(train_set,train_label,epoch=10,V=None,W=None,epsilon1=0.02,epsilon2=0.005,eta=10,d1=0.8,d2=0.8):\n",
    "    if V==None:\n",
    "        V=np.random.normal(scale=(1/eta)**2,size=500*785)\n",
    "        V=np.matrix(V.reshape((500,785)))\n",
    "    if W==None:\n",
    "        W=np.random.normal(scale=(1/eta)**2,size=26*501)\n",
    "        W=np.matrix(W.reshape((26,501)))\n",
    "    for i in range(epoch):\n",
    "        index=np.arange(len(train_set))\n",
    "        np.random.shuffle(index)\n",
    "        train_set=train_set[index]\n",
    "        train_label=train_label[index]\n",
    "        print(i)\n",
    "        for j in range(int(len(train_set)/80)):\n",
    "            x=np.matrix(train_set[(j*80):((j+1)*80)]).T\n",
    "            y=np.matrix(train_label[(j*80):((j+1)*80)]).T\n",
    "            h=np.tanh(V*x)\n",
    "            h=np.matrix(list(np.array(h))+[np.repeat(1,80)])\n",
    "            z=1/(1+np.exp(-W*h))\n",
    "            z_y=z-y\n",
    "            L_h=W.T*z_y\n",
    "            grad_W=np.matrix(np.zeros((26,501)))\n",
    "            grad_V=np.matrix(np.zeros((500,785)))\n",
    "            for k in range(80):\n",
    "                grad_W=grad_W+z_y[...,k]*h[...,k].T\n",
    "                grad_V=grad_V+np.matrix(np.array(L_h[...,k][:-1])*(1-np.array(h[...,k][:-1])*np.array(h[...,k][:-1])))*x[...,k].T\n",
    "            W=W-epsilon2*grad_W\n",
    "            V=V-epsilon1*grad_V\n",
    "        epsilon1=epsilon1*d1\n",
    "        epsilon2=epsilon2*d2\n",
    "    return {'W':W,'V':V}"
   ]
  },
  {
   "cell_type": "code",
   "execution_count": 11,
   "metadata": {
    "collapsed": false
   },
   "outputs": [],
   "source": [
    "def predictNeuralNetwork(valid_set,weights):\n",
    "    V=weights['V']\n",
    "    W=weights['W']\n",
    "    X=np.matrix(valid_set).T\n",
    "    h=np.tanh(V*X)\n",
    "    h=np.matrix(list(np.array(h))+[np.repeat(1,len(valid_set))])\n",
    "    z=1/(1+np.exp(-W*h))\n",
    "    return np.array(z.T)"
   ]
  },
  {
   "cell_type": "code",
   "execution_count": 12,
   "metadata": {
    "collapsed": true
   },
   "outputs": [],
   "source": [
    "def encode(labels):\n",
    "    res=[]\n",
    "    for i in range(len(labels)):\n",
    "        res.append(labels[i].argmax()+1)\n",
    "    return np.array(res)"
   ]
  },
  {
   "cell_type": "code",
   "execution_count": 42,
   "metadata": {
    "collapsed": false
   },
   "outputs": [
    {
     "name": "stdout",
     "output_type": "stream",
     "text": [
      "0\n",
      "1\n",
      "2\n",
      "3\n",
      "4\n"
     ]
    }
   ],
   "source": [
    "weight1=trainNeuralNetwork(train_set,train_label,epoch=5,epsilon1=0.001,epsilon2=0.003)"
   ]
  },
  {
   "cell_type": "code",
   "execution_count": 43,
   "metadata": {
    "collapsed": false
   },
   "outputs": [],
   "source": [
    "pred1=predictNeuralNetwork(valid_set,weight1)"
   ]
  },
  {
   "cell_type": "code",
   "execution_count": 44,
   "metadata": {
    "collapsed": false
   },
   "outputs": [
    {
     "data": {
      "text/plain": [
       "0.89202724358974361"
      ]
     },
     "execution_count": 44,
     "metadata": {},
     "output_type": "execute_result"
    }
   ],
   "source": [
    "# Get predict accuracy\n",
    "sum(encode(pred1)==encode(valid_label))/len(valid_label)"
   ]
  },
  {
   "cell_type": "code",
   "execution_count": null,
   "metadata": {
    "collapsed": true
   },
   "outputs": [],
   "source": []
  }
 ],
 "metadata": {
  "anaconda-cloud": {},
  "kernelspec": {
   "display_name": "Python [default]",
   "language": "python",
   "name": "python3"
  },
  "language_info": {
   "codemirror_mode": {
    "name": "ipython",
    "version": 3
   },
   "file_extension": ".py",
   "mimetype": "text/x-python",
   "name": "python",
   "nbconvert_exporter": "python",
   "pygments_lexer": "ipython3",
   "version": "3.5.2"
  }
 },
 "nbformat": 4,
 "nbformat_minor": 1
}
